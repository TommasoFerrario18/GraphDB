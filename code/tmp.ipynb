{
 "cells": [
  {
   "cell_type": "code",
   "execution_count": 2,
   "metadata": {},
   "outputs": [
    {
     "data": {
      "text/plain": [
       "Washington       87\n",
       "Houston          52\n",
       "Dallas           51\n",
       "New York City    48\n",
       "Sacramento       44\n",
       "                 ..\n",
       "Palatine          1\n",
       "New Hyde Park     1\n",
       "Toyohama          1\n",
       "Hakodate          1\n",
       "Sakata            1\n",
       "Name: city, Length: 2543, dtype: int64"
      ]
     },
     "execution_count": 2,
     "metadata": {},
     "output_type": "execute_result"
    }
   ],
   "source": [
    "import pandas as pd\n",
    "\n",
    "df = pd.read_csv('./../data/nodes.csv').drop([\"Unnamed: 0\"], axis=1)\n",
    "df['city'].value_counts()"
   ]
  },
  {
   "cell_type": "code",
   "execution_count": 38,
   "metadata": {},
   "outputs": [],
   "source": [
    "edges = pd.read_csv('./../data/edges.csv')\n",
    "edges_list = list(zip(edges.src, edges.dest))"
   ]
  },
  {
   "cell_type": "code",
   "execution_count": 39,
   "metadata": {},
   "outputs": [
    {
     "data": {
      "text/plain": [
       "339274"
      ]
     },
     "execution_count": 39,
     "metadata": {},
     "output_type": "execute_result"
    }
   ],
   "source": [
    "len(edges_list)"
   ]
  },
  {
   "cell_type": "code",
   "execution_count": 41,
   "metadata": {},
   "outputs": [
    {
     "data": {
      "text/plain": [
       "10694"
      ]
     },
     "execution_count": 41,
     "metadata": {},
     "output_type": "execute_result"
    }
   ],
   "source": [
    "# Create adiacency matrix\n",
    "import numpy as np\n",
    "adj_matrix = np.zeros((df.shape[0], df.shape[0]))\n",
    "\n",
    "for i, j in edges_list:\n",
    "    adj_matrix[i, j] = 1\n",
    "\n",
    "# for i in range(edges.shape[0]):\n",
    "#     for j in range(edges.shape[0]):\n",
    "#         if i != j and (i, j) in edges_list and (j, i) in edges_list:\n",
    "#             adj_matrix[i, j] = 1\n",
    "matches = []\n",
    "for i in range(adj_matrix.shape[0]):\n",
    "    for j in range(i, adj_matrix.shape[0]):\n",
    "        if adj_matrix[i, j] == 1 and adj_matrix[j, i] == 1:\n",
    "            matches.append((i, j))\n",
    "            \n",
    "matches"
   ]
  },
  {
   "cell_type": "code",
   "execution_count": 42,
   "metadata": {},
   "outputs": [],
   "source": [
    "matches = pd.DataFrame(matches, columns=[\"src\", \"dest\"])\n",
    "matches.to_csv('./../data/matches.csv', index=False)"
   ]
  }
 ],
 "metadata": {
  "kernelspec": {
   "display_name": "Python 3",
   "language": "python",
   "name": "python3"
  },
  "language_info": {
   "codemirror_mode": {
    "name": "ipython",
    "version": 3
   },
   "file_extension": ".py",
   "mimetype": "text/x-python",
   "name": "python",
   "nbconvert_exporter": "python",
   "pygments_lexer": "ipython3",
   "version": "3.10.5"
  }
 },
 "nbformat": 4,
 "nbformat_minor": 2
}

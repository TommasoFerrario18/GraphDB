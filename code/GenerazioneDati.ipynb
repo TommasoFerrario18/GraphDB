{
 "cells": [
  {
   "cell_type": "code",
   "execution_count": 19,
   "metadata": {},
   "outputs": [],
   "source": [
    "import pandas as pd\n",
    "import random"
   ]
  },
  {
   "cell_type": "markdown",
   "metadata": {},
   "source": [
    "# Node"
   ]
  },
  {
   "cell_type": "code",
   "execution_count": 20,
   "metadata": {},
   "outputs": [
    {
     "data": {
      "text/html": [
       "<div>\n",
       "<style scoped>\n",
       "    .dataframe tbody tr th:only-of-type {\n",
       "        vertical-align: middle;\n",
       "    }\n",
       "\n",
       "    .dataframe tbody tr th {\n",
       "        vertical-align: top;\n",
       "    }\n",
       "\n",
       "    .dataframe thead th {\n",
       "        text-align: right;\n",
       "    }\n",
       "</style>\n",
       "<table border=\"1\" class=\"dataframe\">\n",
       "  <thead>\n",
       "    <tr style=\"text-align: right;\">\n",
       "      <th></th>\n",
       "      <th>first_name</th>\n",
       "      <th>last_name</th>\n",
       "      <th>birthDate</th>\n",
       "      <th>email</th>\n",
       "      <th>phone</th>\n",
       "      <th>gender</th>\n",
       "      <th>city</th>\n",
       "      <th>country</th>\n",
       "      <th>country_code</th>\n",
       "      <th>lat</th>\n",
       "      <th>long</th>\n",
       "      <th>movie_genres</th>\n",
       "      <th>favourite_movie</th>\n",
       "      <th>university</th>\n",
       "      <th>favourite_color</th>\n",
       "      <th>continent</th>\n",
       "    </tr>\n",
       "  </thead>\n",
       "  <tbody>\n",
       "    <tr>\n",
       "      <th>0</th>\n",
       "      <td>Cristiano</td>\n",
       "      <td>Hendron</td>\n",
       "      <td>11/10/1985</td>\n",
       "      <td>chendron0@arstechnica.com</td>\n",
       "      <td>165-321-0452</td>\n",
       "      <td>Male</td>\n",
       "      <td>Araguaína</td>\n",
       "      <td>Brazil</td>\n",
       "      <td>BR</td>\n",
       "      <td>-7.192773</td>\n",
       "      <td>-48.204827</td>\n",
       "      <td>['nan']</td>\n",
       "      <td>Replacement Killers, The</td>\n",
       "      <td>NaN</td>\n",
       "      <td>Fuscia</td>\n",
       "      <td>America</td>\n",
       "    </tr>\n",
       "    <tr>\n",
       "      <th>1</th>\n",
       "      <td>Matti</td>\n",
       "      <td>Buckston</td>\n",
       "      <td>1/2/1992</td>\n",
       "      <td>mbuckston1@usnews.com</td>\n",
       "      <td>960-236-4872</td>\n",
       "      <td>Female</td>\n",
       "      <td>Lages</td>\n",
       "      <td>Brazil</td>\n",
       "      <td>BR</td>\n",
       "      <td>-27.815714</td>\n",
       "      <td>-50.326396</td>\n",
       "      <td>['Comedy', 'Musical']</td>\n",
       "      <td>Mikado, The</td>\n",
       "      <td>Instituto Mauá de Tecnologia</td>\n",
       "      <td>Turquoise</td>\n",
       "      <td>America</td>\n",
       "    </tr>\n",
       "    <tr>\n",
       "      <th>2</th>\n",
       "      <td>Lynsey</td>\n",
       "      <td>Reuben</td>\n",
       "      <td>1/7/1979</td>\n",
       "      <td>lreuben2@marketwatch.com</td>\n",
       "      <td>176-267-4910</td>\n",
       "      <td>Female</td>\n",
       "      <td>Belém</td>\n",
       "      <td>Brazil</td>\n",
       "      <td>BR</td>\n",
       "      <td>-6.690640</td>\n",
       "      <td>-35.500100</td>\n",
       "      <td>['nan']</td>\n",
       "      <td>Blood Spattered Bride, The (La novia ensangren...</td>\n",
       "      <td>NaN</td>\n",
       "      <td>Pink</td>\n",
       "      <td>America</td>\n",
       "    </tr>\n",
       "    <tr>\n",
       "      <th>3</th>\n",
       "      <td>Isadora</td>\n",
       "      <td>Orrum</td>\n",
       "      <td>8/5/1981</td>\n",
       "      <td>iorrum3@comcast.net</td>\n",
       "      <td>401-567-4937</td>\n",
       "      <td>Female</td>\n",
       "      <td>Genova</td>\n",
       "      <td>Italy</td>\n",
       "      <td>IT</td>\n",
       "      <td>44.397270</td>\n",
       "      <td>8.971462</td>\n",
       "      <td>['Drama', 'Musical']</td>\n",
       "      <td>Sincerely Yours</td>\n",
       "      <td>NaN</td>\n",
       "      <td>Teal</td>\n",
       "      <td>Europe</td>\n",
       "    </tr>\n",
       "    <tr>\n",
       "      <th>4</th>\n",
       "      <td>Agnola</td>\n",
       "      <td>Gumly</td>\n",
       "      <td>7/14/1987</td>\n",
       "      <td>agumly4@tripod.com</td>\n",
       "      <td>547-700-3798</td>\n",
       "      <td>Female</td>\n",
       "      <td>Jōetsu</td>\n",
       "      <td>Japan</td>\n",
       "      <td>JP</td>\n",
       "      <td>37.090983</td>\n",
       "      <td>138.169801</td>\n",
       "      <td>['nan']</td>\n",
       "      <td>Painting Sellers, The (Taulukauppiaat)</td>\n",
       "      <td>NaN</td>\n",
       "      <td>Maroon</td>\n",
       "      <td>Asia</td>\n",
       "    </tr>\n",
       "  </tbody>\n",
       "</table>\n",
       "</div>"
      ],
      "text/plain": [
       "  first_name last_name   birthDate                      email         phone  \\\n",
       "0  Cristiano   Hendron  11/10/1985  chendron0@arstechnica.com  165-321-0452   \n",
       "1      Matti  Buckston    1/2/1992      mbuckston1@usnews.com  960-236-4872   \n",
       "2     Lynsey    Reuben    1/7/1979   lreuben2@marketwatch.com  176-267-4910   \n",
       "3    Isadora     Orrum    8/5/1981        iorrum3@comcast.net  401-567-4937   \n",
       "4     Agnola     Gumly   7/14/1987         agumly4@tripod.com  547-700-3798   \n",
       "\n",
       "   gender       city country country_code        lat        long  \\\n",
       "0    Male  Araguaína  Brazil           BR  -7.192773  -48.204827   \n",
       "1  Female      Lages  Brazil           BR -27.815714  -50.326396   \n",
       "2  Female      Belém  Brazil           BR  -6.690640  -35.500100   \n",
       "3  Female     Genova   Italy           IT  44.397270    8.971462   \n",
       "4  Female     Jōetsu   Japan           JP  37.090983  138.169801   \n",
       "\n",
       "            movie_genres                                    favourite_movie  \\\n",
       "0                ['nan']                           Replacement Killers, The   \n",
       "1  ['Comedy', 'Musical']                                        Mikado, The   \n",
       "2                ['nan']  Blood Spattered Bride, The (La novia ensangren...   \n",
       "3   ['Drama', 'Musical']                                    Sincerely Yours   \n",
       "4                ['nan']             Painting Sellers, The (Taulukauppiaat)   \n",
       "\n",
       "                     university favourite_color continent  \n",
       "0                           NaN          Fuscia   America  \n",
       "1  Instituto Mauá de Tecnologia       Turquoise   America  \n",
       "2                           NaN            Pink   America  \n",
       "3                           NaN            Teal    Europe  \n",
       "4                           NaN          Maroon      Asia  "
      ]
     },
     "execution_count": 20,
     "metadata": {},
     "output_type": "execute_result"
    }
   ],
   "source": [
    "df_nodes = pd.read_csv('./../data/nodes.csv').drop(columns=['Unnamed: 0'])\n",
    "df_nodes.head()"
   ]
  },
  {
   "cell_type": "code",
   "execution_count": 21,
   "metadata": {},
   "outputs": [
    {
     "data": {
      "text/html": [
       "<div>\n",
       "<style scoped>\n",
       "    .dataframe tbody tr th:only-of-type {\n",
       "        vertical-align: middle;\n",
       "    }\n",
       "\n",
       "    .dataframe tbody tr th {\n",
       "        vertical-align: top;\n",
       "    }\n",
       "\n",
       "    .dataframe thead th {\n",
       "        text-align: right;\n",
       "    }\n",
       "</style>\n",
       "<table border=\"1\" class=\"dataframe\">\n",
       "  <thead>\n",
       "    <tr style=\"text-align: right;\">\n",
       "      <th></th>\n",
       "      <th>first_name</th>\n",
       "      <th>last_name</th>\n",
       "      <th>birthDate</th>\n",
       "      <th>email</th>\n",
       "      <th>phone</th>\n",
       "      <th>gender</th>\n",
       "      <th>city</th>\n",
       "      <th>country</th>\n",
       "      <th>country_code</th>\n",
       "      <th>lat</th>\n",
       "      <th>long</th>\n",
       "      <th>movie_genres</th>\n",
       "      <th>favourite_movie</th>\n",
       "      <th>university</th>\n",
       "      <th>favourite_color</th>\n",
       "      <th>continent</th>\n",
       "    </tr>\n",
       "  </thead>\n",
       "  <tbody>\n",
       "    <tr>\n",
       "      <th>0</th>\n",
       "      <td>Cristiano</td>\n",
       "      <td>Hendron</td>\n",
       "      <td>11/10/1985</td>\n",
       "      <td>chendron0@arstechnica.com</td>\n",
       "      <td>165-321-0452</td>\n",
       "      <td>Male</td>\n",
       "      <td>Araguaína</td>\n",
       "      <td>Brazil</td>\n",
       "      <td>BR</td>\n",
       "      <td>-7.192773</td>\n",
       "      <td>-48.204827</td>\n",
       "      <td>['nan']</td>\n",
       "      <td>Replacement Killers, The</td>\n",
       "      <td>NaN</td>\n",
       "      <td>Fuscia</td>\n",
       "      <td>America</td>\n",
       "    </tr>\n",
       "    <tr>\n",
       "      <th>1</th>\n",
       "      <td>Matti</td>\n",
       "      <td>Buckston</td>\n",
       "      <td>1/2/1992</td>\n",
       "      <td>mbuckston1@usnews.com</td>\n",
       "      <td>960-236-4872</td>\n",
       "      <td>Female</td>\n",
       "      <td>Lages</td>\n",
       "      <td>Brazil</td>\n",
       "      <td>BR</td>\n",
       "      <td>-27.815714</td>\n",
       "      <td>-50.326396</td>\n",
       "      <td>['Comedy', 'Musical']</td>\n",
       "      <td>Mikado, The</td>\n",
       "      <td>Instituto Mauá de Tecnologia</td>\n",
       "      <td>Turquoise</td>\n",
       "      <td>America</td>\n",
       "    </tr>\n",
       "    <tr>\n",
       "      <th>2</th>\n",
       "      <td>Lynsey</td>\n",
       "      <td>Reuben</td>\n",
       "      <td>1/7/1979</td>\n",
       "      <td>lreuben2@marketwatch.com</td>\n",
       "      <td>176-267-4910</td>\n",
       "      <td>Female</td>\n",
       "      <td>Belém</td>\n",
       "      <td>Brazil</td>\n",
       "      <td>BR</td>\n",
       "      <td>-6.690640</td>\n",
       "      <td>-35.500100</td>\n",
       "      <td>['nan']</td>\n",
       "      <td>Blood Spattered Bride, The (La novia ensangren...</td>\n",
       "      <td>NaN</td>\n",
       "      <td>Pink</td>\n",
       "      <td>America</td>\n",
       "    </tr>\n",
       "    <tr>\n",
       "      <th>3</th>\n",
       "      <td>Isadora</td>\n",
       "      <td>Orrum</td>\n",
       "      <td>8/5/1981</td>\n",
       "      <td>iorrum3@comcast.net</td>\n",
       "      <td>401-567-4937</td>\n",
       "      <td>Female</td>\n",
       "      <td>Genova</td>\n",
       "      <td>Italy</td>\n",
       "      <td>IT</td>\n",
       "      <td>44.397270</td>\n",
       "      <td>8.971462</td>\n",
       "      <td>['Drama', 'Musical']</td>\n",
       "      <td>Sincerely Yours</td>\n",
       "      <td>NaN</td>\n",
       "      <td>Teal</td>\n",
       "      <td>Europe</td>\n",
       "    </tr>\n",
       "    <tr>\n",
       "      <th>4</th>\n",
       "      <td>Agnola</td>\n",
       "      <td>Gumly</td>\n",
       "      <td>7/14/1987</td>\n",
       "      <td>agumly4@tripod.com</td>\n",
       "      <td>547-700-3798</td>\n",
       "      <td>Female</td>\n",
       "      <td>Jōetsu</td>\n",
       "      <td>Japan</td>\n",
       "      <td>JP</td>\n",
       "      <td>37.090983</td>\n",
       "      <td>138.169801</td>\n",
       "      <td>['nan']</td>\n",
       "      <td>Painting Sellers, The (Taulukauppiaat)</td>\n",
       "      <td>NaN</td>\n",
       "      <td>Maroon</td>\n",
       "      <td>Asia</td>\n",
       "    </tr>\n",
       "  </tbody>\n",
       "</table>\n",
       "</div>"
      ],
      "text/plain": [
       "  first_name last_name   birthDate                      email         phone  \\\n",
       "0  Cristiano   Hendron  11/10/1985  chendron0@arstechnica.com  165-321-0452   \n",
       "1      Matti  Buckston    1/2/1992      mbuckston1@usnews.com  960-236-4872   \n",
       "2     Lynsey    Reuben    1/7/1979   lreuben2@marketwatch.com  176-267-4910   \n",
       "3    Isadora     Orrum    8/5/1981        iorrum3@comcast.net  401-567-4937   \n",
       "4     Agnola     Gumly   7/14/1987         agumly4@tripod.com  547-700-3798   \n",
       "\n",
       "   gender       city country country_code        lat        long  \\\n",
       "0    Male  Araguaína  Brazil           BR  -7.192773  -48.204827   \n",
       "1  Female      Lages  Brazil           BR -27.815714  -50.326396   \n",
       "2  Female      Belém  Brazil           BR  -6.690640  -35.500100   \n",
       "3  Female     Genova   Italy           IT  44.397270    8.971462   \n",
       "4  Female     Jōetsu   Japan           JP  37.090983  138.169801   \n",
       "\n",
       "            movie_genres                                    favourite_movie  \\\n",
       "0                ['nan']                           Replacement Killers, The   \n",
       "1  ['Comedy', 'Musical']                                        Mikado, The   \n",
       "2                ['nan']  Blood Spattered Bride, The (La novia ensangren...   \n",
       "3   ['Drama', 'Musical']                                    Sincerely Yours   \n",
       "4                ['nan']             Painting Sellers, The (Taulukauppiaat)   \n",
       "\n",
       "                     university favourite_color continent  \n",
       "0                           NaN          Fuscia   America  \n",
       "1  Instituto Mauá de Tecnologia       Turquoise   America  \n",
       "2                           NaN            Pink   America  \n",
       "3                           NaN            Teal    Europe  \n",
       "4                           NaN          Maroon      Asia  "
      ]
     },
     "execution_count": 21,
     "metadata": {},
     "output_type": "execute_result"
    }
   ],
   "source": [
    "new_nodes_df = pd.DataFrame()\n",
    "\n",
    "for i in range(1, 11):\n",
    "    new_nodes_df = pd.concat([new_nodes_df, df_nodes])\n",
    "    \n",
    "new_nodes_df.head()"
   ]
  },
  {
   "cell_type": "code",
   "execution_count": 22,
   "metadata": {},
   "outputs": [
    {
     "data": {
      "text/plain": [
       "(100000, 16)"
      ]
     },
     "execution_count": 22,
     "metadata": {},
     "output_type": "execute_result"
    }
   ],
   "source": [
    "df_mescolato = new_nodes_df.sample(frac=1).reset_index(drop=True)\n",
    "df_mescolato.shape"
   ]
  },
  {
   "cell_type": "code",
   "execution_count": 23,
   "metadata": {},
   "outputs": [
    {
     "data": {
      "text/html": [
       "<div>\n",
       "<style scoped>\n",
       "    .dataframe tbody tr th:only-of-type {\n",
       "        vertical-align: middle;\n",
       "    }\n",
       "\n",
       "    .dataframe tbody tr th {\n",
       "        vertical-align: top;\n",
       "    }\n",
       "\n",
       "    .dataframe thead th {\n",
       "        text-align: right;\n",
       "    }\n",
       "</style>\n",
       "<table border=\"1\" class=\"dataframe\">\n",
       "  <thead>\n",
       "    <tr style=\"text-align: right;\">\n",
       "      <th></th>\n",
       "      <th>first_name</th>\n",
       "      <th>last_name</th>\n",
       "      <th>birthDate</th>\n",
       "      <th>email</th>\n",
       "      <th>phone</th>\n",
       "      <th>gender</th>\n",
       "      <th>city</th>\n",
       "      <th>country</th>\n",
       "      <th>country_code</th>\n",
       "      <th>lat</th>\n",
       "      <th>long</th>\n",
       "      <th>movie_genres</th>\n",
       "      <th>favourite_movie</th>\n",
       "      <th>university</th>\n",
       "      <th>favourite_color</th>\n",
       "      <th>continent</th>\n",
       "    </tr>\n",
       "  </thead>\n",
       "  <tbody>\n",
       "    <tr>\n",
       "      <th>0</th>\n",
       "      <td>Hewie</td>\n",
       "      <td>Nial</td>\n",
       "      <td>11/7/1970</td>\n",
       "      <td>hnial9j@fema.gov</td>\n",
       "      <td>832-738-9561</td>\n",
       "      <td>Male</td>\n",
       "      <td>Palhoça</td>\n",
       "      <td>Brazil</td>\n",
       "      <td>BR</td>\n",
       "      <td>-27.633137</td>\n",
       "      <td>-48.653927</td>\n",
       "      <td>['Action', 'Crime', 'Thriller']</td>\n",
       "      <td>Vibrator</td>\n",
       "      <td>NaN</td>\n",
       "      <td>Mauv</td>\n",
       "      <td>America</td>\n",
       "    </tr>\n",
       "    <tr>\n",
       "      <th>1</th>\n",
       "      <td>Gaylord</td>\n",
       "      <td>Cossom</td>\n",
       "      <td>2/10/1974</td>\n",
       "      <td>gcossom57@economist.com</td>\n",
       "      <td>305-360-2104</td>\n",
       "      <td>Male</td>\n",
       "      <td>Miami</td>\n",
       "      <td>United States</td>\n",
       "      <td>US</td>\n",
       "      <td>25.735712</td>\n",
       "      <td>-80.399265</td>\n",
       "      <td>['Documentary', 'War']</td>\n",
       "      <td>Rover, The</td>\n",
       "      <td>NaN</td>\n",
       "      <td>Yellow</td>\n",
       "      <td>America</td>\n",
       "    </tr>\n",
       "    <tr>\n",
       "      <th>2</th>\n",
       "      <td>Stearne</td>\n",
       "      <td>Hentzer</td>\n",
       "      <td>7/19/1988</td>\n",
       "      <td>shentzer20@ning.com</td>\n",
       "      <td>510-279-3206</td>\n",
       "      <td>Male</td>\n",
       "      <td>Oakland</td>\n",
       "      <td>United States</td>\n",
       "      <td>US</td>\n",
       "      <td>37.740000</td>\n",
       "      <td>-122.190000</td>\n",
       "      <td>['nan']</td>\n",
       "      <td>Aurora Borealis</td>\n",
       "      <td>Midland Lutheran College</td>\n",
       "      <td>NaN</td>\n",
       "      <td>America</td>\n",
       "    </tr>\n",
       "    <tr>\n",
       "      <th>3</th>\n",
       "      <td>Nealon</td>\n",
       "      <td>Metherell</td>\n",
       "      <td>1/3/1973</td>\n",
       "      <td>nmetherellcv@redcross.org</td>\n",
       "      <td>141-738-8630</td>\n",
       "      <td>Male</td>\n",
       "      <td>Goiatuba</td>\n",
       "      <td>Brazil</td>\n",
       "      <td>BR</td>\n",
       "      <td>-17.965933</td>\n",
       "      <td>-49.650311</td>\n",
       "      <td>['nan']</td>\n",
       "      <td>Time (Shi gan)</td>\n",
       "      <td>NaN</td>\n",
       "      <td>Maroon</td>\n",
       "      <td>America</td>\n",
       "    </tr>\n",
       "    <tr>\n",
       "      <th>4</th>\n",
       "      <td>Ali</td>\n",
       "      <td>Linde</td>\n",
       "      <td>8/9/2000</td>\n",
       "      <td>alindeab@sciencedirect.com</td>\n",
       "      <td>513-665-6216</td>\n",
       "      <td>Male</td>\n",
       "      <td>Porto Real</td>\n",
       "      <td>Brazil</td>\n",
       "      <td>BR</td>\n",
       "      <td>-22.418384</td>\n",
       "      <td>-44.348270</td>\n",
       "      <td>['Documentary', 'Musical']</td>\n",
       "      <td>Verdict, The</td>\n",
       "      <td>NaN</td>\n",
       "      <td>Red</td>\n",
       "      <td>America</td>\n",
       "    </tr>\n",
       "  </tbody>\n",
       "</table>\n",
       "</div>"
      ],
      "text/plain": [
       "  first_name  last_name  birthDate                       email         phone  \\\n",
       "0      Hewie       Nial  11/7/1970            hnial9j@fema.gov  832-738-9561   \n",
       "1    Gaylord     Cossom  2/10/1974     gcossom57@economist.com  305-360-2104   \n",
       "2    Stearne    Hentzer  7/19/1988         shentzer20@ning.com  510-279-3206   \n",
       "3     Nealon  Metherell   1/3/1973   nmetherellcv@redcross.org  141-738-8630   \n",
       "4        Ali      Linde   8/9/2000  alindeab@sciencedirect.com  513-665-6216   \n",
       "\n",
       "  gender        city        country country_code        lat        long  \\\n",
       "0   Male     Palhoça         Brazil           BR -27.633137  -48.653927   \n",
       "1   Male       Miami  United States           US  25.735712  -80.399265   \n",
       "2   Male     Oakland  United States           US  37.740000 -122.190000   \n",
       "3   Male    Goiatuba         Brazil           BR -17.965933  -49.650311   \n",
       "4   Male  Porto Real         Brazil           BR -22.418384  -44.348270   \n",
       "\n",
       "                      movie_genres  favourite_movie                university  \\\n",
       "0  ['Action', 'Crime', 'Thriller']         Vibrator                       NaN   \n",
       "1           ['Documentary', 'War']       Rover, The                       NaN   \n",
       "2                          ['nan']  Aurora Borealis  Midland Lutheran College   \n",
       "3                          ['nan']   Time (Shi gan)                       NaN   \n",
       "4       ['Documentary', 'Musical']     Verdict, The                       NaN   \n",
       "\n",
       "  favourite_color continent  \n",
       "0            Mauv   America  \n",
       "1          Yellow   America  \n",
       "2             NaN   America  \n",
       "3          Maroon   America  \n",
       "4             Red   America  "
      ]
     },
     "execution_count": 23,
     "metadata": {},
     "output_type": "execute_result"
    }
   ],
   "source": [
    "df_mescolato.head()"
   ]
  },
  {
   "cell_type": "code",
   "execution_count": 24,
   "metadata": {},
   "outputs": [],
   "source": [
    "df_mescolato.to_csv('./../data/new_nodes.csv')"
   ]
  },
  {
   "cell_type": "markdown",
   "metadata": {},
   "source": [
    "# Edges"
   ]
  },
  {
   "cell_type": "markdown",
   "metadata": {},
   "source": [
    "## Likes"
   ]
  },
  {
   "cell_type": "code",
   "execution_count": 25,
   "metadata": {},
   "outputs": [],
   "source": [
    "all_edges = []"
   ]
  },
  {
   "cell_type": "markdown",
   "metadata": {},
   "source": [
    "Funzione per aggiungere archi con una data probabilità"
   ]
  },
  {
   "cell_type": "code",
   "execution_count": 26,
   "metadata": {},
   "outputs": [],
   "source": [
    "def add_edges_with_probability(group, probability):\n",
    "    edges = []\n",
    "    nodes = group.index.tolist()\n",
    "    num_nodes = len(nodes)\n",
    "    num_edges = int(probability * num_nodes * (num_nodes - 1) / 2)\n",
    "    added_edges = set()\n",
    "\n",
    "    while len(added_edges) < num_edges:\n",
    "        node1, node2 = random.sample(nodes, 2)\n",
    "        if node1 != node2 and (node1, node2) not in added_edges:\n",
    "            edges.append((node1, node2))\n",
    "            added_edges.add((node1, node2))\n",
    "\n",
    "    return edges"
   ]
  },
  {
   "cell_type": "markdown",
   "metadata": {},
   "source": [
    "**Step 1**: Aggiungere archi per la stessa città (20%)"
   ]
  },
  {
   "cell_type": "code",
   "execution_count": 27,
   "metadata": {},
   "outputs": [],
   "source": [
    "for name, group in df_mescolato.groupby('city'):\n",
    "    all_edges.extend(add_edges_with_probability(group, 0.15))"
   ]
  },
  {
   "cell_type": "markdown",
   "metadata": {},
   "source": [
    "**Step 2**: Aggiungere archi per lo stesso paese (5%)"
   ]
  },
  {
   "cell_type": "code",
   "execution_count": 28,
   "metadata": {},
   "outputs": [],
   "source": [
    "for name, group in df_mescolato.groupby('country'):\n",
    "    all_edges.extend(add_edges_with_probability(group, 0.001))"
   ]
  },
  {
   "cell_type": "markdown",
   "metadata": {},
   "source": [
    "**Step 3**: Aggiungere archi per lo stesso continente (5%)"
   ]
  },
  {
   "cell_type": "code",
   "execution_count": 29,
   "metadata": {},
   "outputs": [],
   "source": [
    "for name, group in df_mescolato.groupby('continent'):\n",
    "    all_edges.extend(add_edges_with_probability(group, 0.0005))"
   ]
  },
  {
   "cell_type": "markdown",
   "metadata": {},
   "source": [
    "**Step 4**: Aggiungere archi casuali (1%)"
   ]
  },
  {
   "cell_type": "code",
   "execution_count": 30,
   "metadata": {},
   "outputs": [],
   "source": [
    "all_ids = df_mescolato.index.tolist()\n",
    "num_nodes = len(all_ids)\n",
    "num_edges = int(0.0000001 * num_nodes * (num_nodes - 1) / 2)\n",
    "added_edges = set()\n",
    "\n",
    "while len(added_edges) < num_edges:\n",
    "    node1, node2 = random.sample(all_ids, 2)\n",
    "    if node1 != node2 and (node1, node2) not in added_edges:\n",
    "        all_edges.append((node1, node2))\n",
    "        added_edges.add((node1, node2))"
   ]
  },
  {
   "cell_type": "markdown",
   "metadata": {},
   "source": [
    "**Step 5**: Stampare il numero di archi del grafo"
   ]
  },
  {
   "cell_type": "code",
   "execution_count": 31,
   "metadata": {},
   "outputs": [
    {
     "name": "stdout",
     "output_type": "stream",
     "text": [
      "Numero totale di archi generati: 3512288\n"
     ]
    }
   ],
   "source": [
    "print(f\"Numero totale di archi generati: {len(all_edges)}\")"
   ]
  },
  {
   "cell_type": "code",
   "execution_count": 32,
   "metadata": {},
   "outputs": [],
   "source": [
    "new_edges_df = pd.DataFrame(all_edges, columns=['source', 'target'])\n",
    "new_edges_df.to_csv('./../data/new_edges.csv')"
   ]
  },
  {
   "cell_type": "markdown",
   "metadata": {},
   "source": [
    "## Matches"
   ]
  },
  {
   "cell_type": "code",
   "execution_count": 33,
   "metadata": {},
   "outputs": [],
   "source": [
    "reciprocal_edges = []\n",
    "\n",
    "# Creare un set di archi per la verifica rapida\n",
    "edge_set = set(all_edges)"
   ]
  },
  {
   "cell_type": "markdown",
   "metadata": {},
   "source": [
    "Iterare attraverso la lista degli archi"
   ]
  },
  {
   "cell_type": "code",
   "execution_count": 34,
   "metadata": {},
   "outputs": [],
   "source": [
    "for u, v in all_edges:\n",
    "    if (v, u) in edge_set:\n",
    "        reciprocal_edges.append((u, v))"
   ]
  },
  {
   "cell_type": "markdown",
   "metadata": {},
   "source": [
    "Stampare il numero totale di archi reciproci trovati"
   ]
  },
  {
   "cell_type": "code",
   "execution_count": 35,
   "metadata": {},
   "outputs": [
    {
     "name": "stdout",
     "output_type": "stream",
     "text": [
      "Numero totale di archi reciproci trovati: 50522\n"
     ]
    }
   ],
   "source": [
    "print(f\"Numero totale di archi reciproci trovati: {len(reciprocal_edges)}\")"
   ]
  },
  {
   "cell_type": "code",
   "execution_count": 36,
   "metadata": {},
   "outputs": [],
   "source": [
    "matching_edges_df = pd.DataFrame(reciprocal_edges, columns=['source', 'target'])\n",
    "matching_edges_df.to_csv('./../data/new_matches.csv')"
   ]
  }
 ],
 "metadata": {
  "kernelspec": {
   "display_name": "Python 3",
   "language": "python",
   "name": "python3"
  },
  "language_info": {
   "codemirror_mode": {
    "name": "ipython",
    "version": 3
   },
   "file_extension": ".py",
   "mimetype": "text/x-python",
   "name": "python",
   "nbconvert_exporter": "python",
   "pygments_lexer": "ipython3",
   "version": "3.10.5"
  }
 },
 "nbformat": 4,
 "nbformat_minor": 2
}
